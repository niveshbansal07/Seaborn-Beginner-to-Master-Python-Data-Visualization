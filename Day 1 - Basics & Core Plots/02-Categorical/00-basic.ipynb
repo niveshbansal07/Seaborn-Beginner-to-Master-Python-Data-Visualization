{
 "cells": [
  {
   "cell_type": "markdown",
   "id": "38fcf817",
   "metadata": {},
   "source": [
    "### Types of Category Plots (Cheatsheet)"
   ]
  },
  {
   "cell_type": "markdown",
   "id": "bd703864",
   "metadata": {},
   "source": [
    "### Category Plots (Cheatsheet)\n",
    "\n",
    "#### 1. Basic Category Plots (Frequency & Counts)\n",
    "\n",
    "| Plot       | Alternate / Second Name            | Example Code                               |\n",
    "| ---------- | ---------------------------------- | ------------------------------------------ |\n",
    "| Count Plot | Frequency Plot, Category Histogram | `sns.countplot(x=\"day\", data=tips)`        |\n",
    "| Bar Plot   | Mean/Estimate per Category         | `sns.barplot(x=\"day\", y=\"tip\", data=tips)` |\n",
    "\n",
    "\n",
    "#### 2. Distribution Across Categories\n",
    "\n",
    "| Plot        | Alternate / Second Name        | Example Code                                         |\n",
    "| ----------- | ------------------------------ | ---------------------------------------------------- |\n",
    "| Box Plot    | Whisker Plot, 5-Number Summary | `sns.boxplot(x=\"day\", y=\"tip\", data=tips)`           |\n",
    "| Violin Plot | KDE + Boxplot                  | `sns.violinplot(x=\"day\", y=\"total_bill\", data=tips)` |\n",
    "| Strip Plot  | Jitter Plot                    | `sns.stripplot(x=\"day\", y=\"tip\", data=tips)`         |\n",
    "| Swarm Plot  | Adjusted Strip Plot            | `sns.swarmplot(x=\"day\", y=\"tip\", data=tips)`         |\n",
    "\n",
    "\n",
    "#### 3. Categorical Relationships\n",
    "\n",
    "| Plot        | Alternate / Second Name               | Example Code                                                                  |\n",
    "| ----------- | ------------------------------------- | ----------------------------------------------------------------------------- |\n",
    "| Point Plot  | Trend Plot for Categories             | `sns.pointplot(x=\"day\", y=\"tip\", data=tips)`                                  |\n",
    "| Grouped Bar | Clustered Bar Chart                   | `sns.barplot(x=\"day\", y=\"tip\", hue=\"sex\", data=tips)`                         |\n",
    "| Stacked Bar | Stacked Bar Chart (pandas/matplotlib) | `tips.groupby([\"day\",\"sex\"]).size().unstack().plot(kind=\"bar\", stacked=True)` |\n"
   ]
  },
  {
   "cell_type": "markdown",
   "id": "545fcb95",
   "metadata": {},
   "source": [
    "### Top 5 Industry-Level Category Plots\n",
    "\n",
    "| Plot            | Use Case (Why Industry Uses It)                                        | Example Code                                      |\n",
    "| --------------- | ---------------------------------------------------------------------- | ------------------------------------------------- |\n",
    "| **Count Plot**  | Shows frequency of categories. Most common for categorical EDA.        | `sns.countplot(x=\"day\", data=tips)`               |\n",
    "| **Bar Plot**    | Shows mean (or other estimator) of numerical values across categories. | `sns.barplot(x=\"day\", y=\"tip\", data=tips)`        |\n",
    "| **Box Plot**    | Category-wise distribution with outliers and medians.                  | `sns.boxplot(x=\"day\", y=\"total_bill\", data=tips)` |\n",
    "| **Violin Plot** | Combines Boxplot + KDE. Used for comparing category distributions.     | `sns.violinplot(x=\"day\", y=\"tip\", data=tips)`     |\n",
    "| **Point Plot**  | Highlights trends across categories with confidence intervals.         | `sns.pointplot(x=\"day\", y=\"tip\", data=tips)`      |\n"
   ]
  },
  {
   "cell_type": "markdown",
   "id": "79d62d4c",
   "metadata": {},
   "source": [
    "**Quick Cheat Notes (Copy-ready)**\n",
    "- Count Plot → Frequency of categories.\n",
    "- Bar Plot → Mean/sum per category.\n",
    "- Box Plot → Median, quartiles, outliers per category.\n",
    "- Violin Plot → Box + density shape.\n",
    "- Point Plot → Trend of mean with error bars."
   ]
  }
 ],
 "metadata": {
  "language_info": {
   "name": "python"
  }
 },
 "nbformat": 4,
 "nbformat_minor": 5
}
