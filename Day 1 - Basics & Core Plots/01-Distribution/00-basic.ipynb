{
 "cells": [
  {
   "cell_type": "markdown",
   "id": "ad00d01a",
   "metadata": {},
   "source": [
    "#### Distribution Plots\n",
    "\n",
    "- We use Distribution plots to visualize the distribution of quantitative data.\n",
    "- Plots that show how numerical values are spread, instead of counting categories. (like total_bill, tip, size) - check tips.csv\n"
   ]
  },
  {
   "cell_type": "markdown",
   "id": "e26e26d1",
   "metadata": {},
   "source": [
    "- The **tips** dataset is a sample dataset included with Seaborn that contains information about restaurant bills, tips, gender, smoking status, day, time, and group size.\n",
    "It’s mainly used for learning data visualization and EDA.\n",
    "\n",
    "- I've been download for reference in csv format now you see this file in directory \n",
    "\n",
    "`tips.csv`"
   ]
  },
  {
   "cell_type": "code",
   "execution_count": 1,
   "id": "626e7df7",
   "metadata": {},
   "outputs": [
    {
     "name": "stdout",
     "output_type": "stream",
     "text": [
      "     total_bill   tip     sex smoker   day    time  size\n",
      "0         16.99  1.01  Female     No   Sun  Dinner     2\n",
      "1         10.34  1.66    Male     No   Sun  Dinner     3\n",
      "2         21.01  3.50    Male     No   Sun  Dinner     3\n",
      "3         23.68  3.31    Male     No   Sun  Dinner     2\n",
      "4         24.59  3.61  Female     No   Sun  Dinner     4\n",
      "..          ...   ...     ...    ...   ...     ...   ...\n",
      "239       29.03  5.92    Male     No   Sat  Dinner     3\n",
      "240       27.18  2.00  Female    Yes   Sat  Dinner     2\n",
      "241       22.67  2.00    Male    Yes   Sat  Dinner     2\n",
      "242       17.82  1.75    Male     No   Sat  Dinner     2\n",
      "243       18.78  3.00  Female     No  Thur  Dinner     2\n",
      "\n",
      "[244 rows x 7 columns]\n",
      "   total_bill   tip     sex smoker  day    time  size\n",
      "0       16.99  1.01  Female     No  Sun  Dinner     2\n",
      "1       10.34  1.66    Male     No  Sun  Dinner     3\n",
      "2       21.01  3.50    Male     No  Sun  Dinner     3\n",
      "3       23.68  3.31    Male     No  Sun  Dinner     2\n",
      "4       24.59  3.61  Female     No  Sun  Dinner     4\n",
      "   total_bill   tip     sex smoker  day    time  size\n",
      "0       16.99  1.01  Female     No  Sun  Dinner     2\n",
      "1       10.34  1.66    Male     No  Sun  Dinner     3\n",
      "2       21.01  3.50    Male     No  Sun  Dinner     3\n",
      "3       23.68  3.31    Male     No  Sun  Dinner     2\n",
      "4       24.59  3.61  Female     No  Sun  Dinner     4\n",
      "5       25.29  4.71    Male     No  Sun  Dinner     4\n",
      "6        8.77  2.00    Male     No  Sun  Dinner     2\n",
      "7       26.88  3.12    Male     No  Sun  Dinner     4\n"
     ]
    }
   ],
   "source": [
    "import seaborn as sns\n",
    "import matplotlib.pyplot as plt\n",
    "tips = sns.load_dataset(\"tips\")\n",
    "\n",
    "print(tips)          # print whole tips dataset\n",
    "\n",
    "print(tips.head())   # first 5 rows(default)\n",
    "print(tips.head(8))  # head(n) - shows the first n rows."
   ]
  },
  {
   "cell_type": "markdown",
   "id": "e43be497",
   "metadata": {},
   "source": [
    "### Types of Distribution plots"
   ]
  },
  {
   "cell_type": "markdown",
   "id": "e1ec42fa",
   "metadata": {},
   "source": [
    "### Distribution Plots (Cheatsheet)\n",
    "\n",
    "#### 1. Univariate Distribution Plots (Single Variable)\n",
    "\n",
    "| Plot        | Alternate / Second Name       | Example Code |\n",
    "|-------------|-------------------------------|--------------|\n",
    "| Histogram   | Frequency Plot, Bar Plot      | `sns.histplot(tips[\"total_bill\"])` |\n",
    "| KDE Plot    | Density Plot, Smooth Histogram| `sns.kdeplot(tips[\"tip\"])` |\n",
    "| ECDF Plot   | Cumulative Distribution Plot  | `sns.ecdfplot(tips[\"total_bill\"])` |\n",
    "| Box Plot    | Whisker Plot, 5-Number Summary| `sns.boxplot(x=tips[\"tip\"])` |\n",
    "| Violin Plot | KDE + Boxplot                 | `sns.violinplot(y=tips[\"total_bill\"])` |\n",
    "| Rug Plot    | Strip of Ticks                | `sns.rugplot(tips[\"total_bill\"])` |\n",
    "| Strip Plot  | Jitter Plot                   | `sns.stripplot(y=tips[\"tip\"])` |\n",
    "\n",
    "---\n",
    "\n",
    "#### 2. Bivariate Distribution Plots (Two Variables)\n",
    "\n",
    "| Plot        | Alternate / Second Name  | Example Code |\n",
    "|-------------|--------------------------|--------------|\n",
    "| Joint Plot  | Bivariate Distribution Plot | `sns.jointplot(x=\"total_bill\", y=\"tip\", data=tips)` |\n",
    "| Hexbin Plot | 2D Histogram (in jointplot) | `sns.jointplot(x=\"total_bill\", y=\"tip\", data=tips, kind=\"hex\")` |\n",
    "| 2D KDE Plot | Density Contour Plot        | `sns.kdeplot(x=\"total_bill\", y=\"tip\", data=tips, fill=True)` |\n",
    "\n",
    "---\n",
    "\n",
    "#### 3. Multivariate Distribution Plots (Many Variables)\n",
    "\n",
    "| Plot        | Alternate / Second Name  | Example Code |\n",
    "|-------------|--------------------------|--------------|\n",
    "| Pair Plot   | Scatterplot Matrix       | `sns.pairplot(tips, vars=[\"total_bill\",\"tip\",\"size\"])` |\n",
    "| FacetGrid   | Small Multiples (with distplots) | `sns.displot(tips, x=\"total_bill\", col=\"day\")` |\n",
    "\n",
    "---\n",
    "\n",
    "#### Summary\n",
    "\n",
    "- **Univariate** → Histogram, KDE, ECDF, Box, Violin, Rug, Strip.  \n",
    "- **Bivariate** → Joint Plot, Hexbin, 2D KDE.  \n",
    "- **Multivariate** → Pair Plot, FacetGrid.  \n"
   ]
  },
  {
   "cell_type": "markdown",
   "id": "af14b9cf",
   "metadata": {},
   "source": [
    "### Top 5 Industry-Level Distribution Plots\n",
    "\n",
    "These 5 plots are the most widely used in **industry-level data analysis, ML, and dashboards**.\n",
    "\n",
    "| Plot        | Use Case (Why Industry Uses It) | Example Code |\n",
    "|-------------|---------------------------------|--------------|\n",
    "| **Histogram** | First step in EDA, shows how values are spread (frequency). Very common in reports. | `sns.histplot(tips[\"total_bill\"])` |\n",
    "| **KDE Plot (Density Plot)** | Smooth curve for probability density. Useful when comparing distributions. | `sns.kdeplot(tips[\"tip\"])` |\n",
    "| **Box Plot** | Detects outliers, median, and spread quickly. Standard in dashboards. | `sns.boxplot(x=tips[\"day\"], y=tips[\"total_bill\"])` |\n",
    "| **Violin Plot** | Combines Boxplot + KDE. Used for comparing category-wise distributions. | `sns.violinplot(x=\"day\", y=\"tip\", data=tips)` |\n",
    "| **Pair Plot (Scatterplot Matrix)** | Shows relationships among multiple numeric variables. Standard in EDA. | `sns.pairplot(tips, vars=[\"total_bill\",\"tip\",\"size\"])` |\n",
    "\n",
    "---\n",
    "\n",
    "#### Summary\n",
    "- **Histogram** → always first step in data understanding.  \n",
    "- **KDE Plot** → smooth distribution view.  \n",
    "- **Box Plot** → spread + outliers (very common).  \n",
    "- **Violin Plot** → distribution per category.  \n",
    "- **Pair Plot** → quick multi-variable insights.  \n",
    "\n",
    "👉 These **5 plots cover 80–90% of real-world industry use cases** in data analysis & visualization.\n"
   ]
  }
 ],
 "metadata": {
  "kernelspec": {
   "display_name": "Python 3",
   "language": "python",
   "name": "python3"
  },
  "language_info": {
   "codemirror_mode": {
    "name": "ipython",
    "version": 3
   },
   "file_extension": ".py",
   "mimetype": "text/x-python",
   "name": "python",
   "nbconvert_exporter": "python",
   "pygments_lexer": "ipython3",
   "version": "3.11.9"
  }
 },
 "nbformat": 4,
 "nbformat_minor": 5
}
